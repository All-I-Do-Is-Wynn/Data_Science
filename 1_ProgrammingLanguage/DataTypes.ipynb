{
 "cells": [
  {
   "cell_type": "markdown",
   "metadata": {},
   "source": [
    "## Data types"
   ]
  },
  {
   "cell_type": "code",
   "execution_count": null,
   "metadata": {},
   "outputs": [],
   "source": [
    "# Text:          str\n",
    "x = \"Hello World\"\n",
    "\n",
    "# Numeric:       int, float, complex\n",
    "x = 20\n",
    "x = 20.5\n",
    "x = 1j\n",
    "\n",
    "# Sequence:      list, tuple, range\n",
    "x = [\"apple\", \"banana\", \"cherry\"]\n",
    "x = ()\"apple\", \"banana\", \"cherry\")\n",
    "x = range(5)\n",
    "\n",
    "# Mapping:       dict\n",
    "x = {\"name\" : \"John\", \"age\" : 21}\n",
    "\n",
    "# Set:           set, frozenset\n",
    "x = {\"apple\", \"banana\", \"cherry\"}\n",
    "x = frozenset({\"apple\", \"banana\", \"cherry\"})\n",
    "\n",
    "# Boolean:       bool\n",
    "x = True\n",
    "\n",
    "# Binary:        bytes, bytearray, memoryview\n",
    "x = b\"Hello\"\n",
    "x = bytearray(5)\n",
    "x = memoryview(bytes(5))\n",
    "\n",
    "# None:          NoneType\n",
    "x = None"
   ]
  }
 ],
 "metadata": {
  "kernelspec": {
   "display_name": "Python 3",
   "language": "python",
   "name": "python3"
  },
  "language_info": {
   "codemirror_mode": {
    "name": "ipython",
    "version": 3
   },
   "file_extension": ".py",
   "mimetype": "text/x-python",
   "name": "python",
   "nbconvert_exporter": "python",
   "pygments_lexer": "ipython3",
   "version": "3.7.3"
  }
 },
 "nbformat": 4,
 "nbformat_minor": 2
}
